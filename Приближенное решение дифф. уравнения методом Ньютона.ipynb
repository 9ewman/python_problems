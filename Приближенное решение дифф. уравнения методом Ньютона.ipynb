{
 "cells": [
  {
   "cell_type": "code",
   "execution_count": 54,
   "metadata": {},
   "outputs": [],
   "source": [
    "import numpy as np\n",
    "import math"
   ]
  },
  {
   "cell_type": "code",
   "execution_count": 56,
   "metadata": {},
   "outputs": [
    {
     "name": "stdout",
     "output_type": "stream",
     "text": [
      "Введите alpha: 1\n",
      "Введите N: 100\n",
      "N = 100 , h = 0.01 , alpha = 1.0\n"
     ]
    }
   ],
   "source": [
    "alph = float(input(\"Введите alpha: \"))\n",
    "N = int(input(\"Введите N: \"))\n",
    "h = 1.0/N\n",
    "print(\"N =\", N, \", h =\", h, \", alpha =\", alph)  "
   ]
  },
  {
   "cell_type": "code",
   "execution_count": 57,
   "metadata": {},
   "outputs": [],
   "source": [
    "#u_{i+1} через u_i и u_{i-1}\n",
    "\n",
    "def u_next(u_prev, u_curr, h, alph, i):\n",
    "    return 2*u_curr + (u_curr*h**2) / (1 + 2*abs(u_curr)) - u_prev - alph*math.exp(i*h)*h**2"
   ]
  },
  {
   "cell_type": "code",
   "execution_count": 58,
   "metadata": {},
   "outputs": [],
   "source": [
    "#u_{i+1} = g(t)\n",
    "\n",
    "def g(t):\n",
    "    u_prev, u_curr = 0, t\n",
    "    for i in range(1, N):\n",
    "        u_prev, u_curr = u_curr, u_next(u_prev, u_curr, h, alph, i)\n",
    "    return u_curr"
   ]
  },
  {
   "cell_type": "code",
   "execution_count": 59,
   "metadata": {},
   "outputs": [],
   "source": [
    "#производная g в точке t\n",
    "\n",
    "def drv(g, t):\n",
    "    dlt = 10**(-10)\n",
    "    return (g(t)-g(t-dlt)) / dlt"
   ]
  },
  {
   "cell_type": "code",
   "execution_count": 60,
   "metadata": {},
   "outputs": [],
   "source": [
    "#метод Ньютона\n",
    "\n",
    "def newton(g):\n",
    "    eps = 10**(-10)\n",
    "    t = 0\n",
    "    while abs(g(t)) > eps:\n",
    "        t = t - g(t)/drv(g, t)\n",
    "    return t"
   ]
  },
  {
   "cell_type": "code",
   "execution_count": 61,
   "metadata": {},
   "outputs": [
    {
     "data": {
      "text/plain": [
       "(0.01008281133113757, -7.147663938587151e-11)"
      ]
     },
     "execution_count": 61,
     "metadata": {},
     "output_type": "execute_result"
    }
   ],
   "source": [
    "# u_1\n",
    "\n",
    "t = newton(g)\n",
    "t, g(t)"
   ]
  },
  {
   "cell_type": "code",
   "execution_count": 62,
   "metadata": {},
   "outputs": [],
   "source": [
    "#Вычисляем u\n",
    "\n",
    "u = np.zeros(N+1)\n",
    "u[0], u[1] = 0, t\n",
    "for i in range(2, N+1):\n",
    "    u[i] = u_next(u[i-2], u[i-1], h, alph, i-1)\n",
    "#u"
   ]
  },
  {
   "cell_type": "code",
   "execution_count": 63,
   "metadata": {},
   "outputs": [
    {
     "data": {
      "image/png": "[encoded data removed]",
      "text/plain": [
       "<Figure size 432x288 with 1 Axes>"
      ]
     },
     "metadata": {
      "needs_background": "light"
     },
     "output_type": "display_data"
    }
   ],
   "source": [
    "#Графики\n",
    "\n",
    "from matplotlib import pyplot\n",
    "\n",
    "net = np.arange(N+1)\n",
    "\n",
    "pyplot.plot(net*h, u, label = \"u\", marker='.')\n",
    "pyplot.legend()\n",
    "pyplot.show()"
   ]
  },
  {
   "cell_type": "code",
   "execution_count": null,
   "metadata": {},
   "outputs": [],
   "source": []
  }
 ],
 "metadata": {
  "kernelspec": {
   "display_name": "Python 3",
   "language": "python",
   "name": "python3"
  },
  "language_info": {
   "codemirror_mode": {
    "name": "ipython",
    "version": 3
   },
   "file_extension": ".py",
   "mimetype": "text/x-python",
   "name": "python",
   "nbconvert_exporter": "python",
   "pygments_lexer": "ipython3",
   "version": "3.7.3"
  }
 },
 "nbformat": 4,
 "nbformat_minor": 2
}
